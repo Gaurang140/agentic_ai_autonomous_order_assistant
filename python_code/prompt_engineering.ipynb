{
 "cells": [
  {
   "cell_type": "code",
   "execution_count": 16,
   "metadata": {},
   "outputs": [],
   "source": [
    "import os \n",
    "from dotenv import load_dotenv\n",
    "from langchain_groq import ChatGroq\n",
    "\n",
    "\n",
    "load_dotenv()\n",
    "\n",
    "\n",
    "\n",
    "groq_model_list = [\n",
    "    \"gemma2-9b-it\",\n",
    "    \"llama-3.3-70b-versatile\",\n",
    "    \"llama-3.1-8b-instant\",\n",
    "    \"llama-guard-3-8b\",\n",
    "    \"llama3-70b-8192\",\n",
    "    \"llama3-8b-8192\",\n",
    "    \"mixtral-8x7b-32768\"]\n",
    "\n",
    "\n",
    "groq_api_key = os.getenv(\"GROQ_API_KEY\")\n",
    "model_name:str = groq_model_list[0]\n",
    "temprature:float = 1.0\n",
    "max_tokens :int = 2000\n",
    "max_retries:int =2 \n",
    "\n",
    "\n",
    "\n",
    "\n",
    "    \n",
    "\n"
   ]
  },
  {
   "cell_type": "code",
   "execution_count": 17,
   "metadata": {},
   "outputs": [],
   "source": [
    "\n",
    "llm_model = ChatGroq(\n",
    "\n",
    "        api_key = groq_api_key,\n",
    "        model = model_name,\n",
    "        temperature=temprature,\n",
    "        max_retries=max_retries,\n",
    "        max_tokens = max_tokens)\n",
    "    \n",
    "\n",
    "\n"
   ]
  },
  {
   "cell_type": "code",
   "execution_count": null,
   "metadata": {},
   "outputs": [],
   "source": [
    "# create embedding pinecone vector data base \n",
    "# embdding using hugging face and dont need runpod \n"
   ]
  },
  {
   "cell_type": "code",
   "execution_count": null,
   "metadata": {},
   "outputs": [],
   "source": []
  }
 ],
 "metadata": {
  "kernelspec": {
   "display_name": "Python 3",
   "language": "python",
   "name": "python3"
  },
  "language_info": {
   "codemirror_mode": {
    "name": "ipython",
    "version": 3
   },
   "file_extension": ".py",
   "mimetype": "text/x-python",
   "name": "python",
   "nbconvert_exporter": "python",
   "pygments_lexer": "ipython3",
   "version": "3.10.16"
  }
 },
 "nbformat": 4,
 "nbformat_minor": 2
}
